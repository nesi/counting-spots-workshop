{
 "cells": [
  {
   "cell_type": "markdown",
   "metadata": {
    "colab_type": "text",
    "id": "4MQ_yeaXGGvF"
   },
   "source": [
    "# Spot the spots\n",
    "\n",
    "## Introduction to Machine Learning on NeSI Workshop\n",
    "\n",
    "This notebook shows how machine learning can be applied to feature detection. You're faced with the tedious task of counting \"spots\" present in a large number of data samples. The spots may represent pictures of fishes, tropical cyclones, skin moles, tumours or black holes - you choose.\n",
    "\n",
    "*In this version the number of spots are classified into separate categories using a pretrained model.*"
   ]
  },
  {
   "cell_type": "markdown",
   "metadata": {},
   "source": [
    "## Requirements\n",
    "\n",
    "You will need:\n",
    "    \n",
    " * Python 3\n",
    " * NumPy\n",
    " * Matplotlib\n",
    " * TensorFlow 2.0"
   ]
  },
  {
   "cell_type": "markdown",
   "metadata": {
    "colab_type": "text",
    "id": "eeTk9C4kSqGR"
   },
   "source": [
    "## Input parameters for the dataset"
   ]
  },
  {
   "cell_type": "code",
   "execution_count": 199,
   "metadata": {
    "colab": {},
    "colab_type": "code",
    "id": "eB9GyZ4gGBJj"
   },
   "outputs": [],
   "source": [
    "# dataset input values - feel free to change\n",
    "numTrain = 2000     # number of training samples\n",
    "numTest = 100       # number of testing samples\n",
    "numCells = 128       # the data have size numCells x numCells\n",
    "maxNumSpots = 4     # the maximum number of spots 0...maxNumSpots\n",
    "categories = ['<=1', '==2', '>=3'] # classification categories (1 spot or less, 2 spots, etc.)"
   ]
  },
  {
   "cell_type": "markdown",
   "metadata": {},
   "source": [
    "## Reproducible results for testing the model\n",
    "\n",
    "Setting the random seeds ensures you will get the same results when running this notebook from the start (Restart and Run All). Feel free change the seed value or comment out this block to test your model on different data."
   ]
  },
  {
   "cell_type": "code",
   "execution_count": 200,
   "metadata": {
    "colab": {},
    "colab_type": "code",
    "id": "LILclWIoGgk7"
   },
   "outputs": [],
   "source": [
    "random_seed = 123\n",
    "\n",
    "import numpy as np\n",
    "np.random.seed(random_seed)\n",
    "\n",
    "import tensorflow as tf\n",
    "tf.random.set_seed(random_seed)\n",
    "\n",
    "import random\n",
    "random.seed(random_seed)"
   ]
  },
  {
   "cell_type": "markdown",
   "metadata": {},
   "source": [
    "## Where the code will run\n",
    "\n",
    "Uncomment these commands to show what devices are available and are being used."
   ]
  },
  {
   "cell_type": "code",
   "execution_count": 201,
   "metadata": {},
   "outputs": [],
   "source": [
    "# list available GPUs\n",
    "#tf.config.experimental.list_physical_devices()"
   ]
  },
  {
   "cell_type": "code",
   "execution_count": 202,
   "metadata": {},
   "outputs": [],
   "source": [
    "# print info about which device operations are running on\n",
    "#tf.debugging.set_log_device_placement(True)"
   ]
  },
  {
   "cell_type": "markdown",
   "metadata": {
    "colab_type": "text",
    "id": "6cR7592zS0nI"
   },
   "source": [
    "## Some convenience functions"
   ]
  },
  {
   "cell_type": "markdown",
   "metadata": {
    "colab_type": "text",
    "id": "22gecBZaGasA"
   },
   "source": [
    "### Function to generate random samples\n",
    "\n",
    "Each sample is a 2d image/data with spots at random locations."
   ]
  },
  {
   "cell_type": "code",
   "execution_count": 203,
   "metadata": {
    "colab": {},
    "colab_type": "code",
    "id": "LILclWIoGgk7"
   },
   "outputs": [],
   "source": [
    "# define the 2d grid\n",
    "xs = np.linspace(0., 1., numCells)\n",
    "ys = np.linspace(0., 1., numCells)\n",
    "xxs, yys = np.meshgrid(xs, ys)\n",
    "\n",
    "def generateRandomSamples(numSamples):\n",
    "    \"\"\"\n",
    "    Generate samples containing random data with spots (Gaussian field over zero background)\n",
    "    @param numSamples number of samples to generate\n",
    "    @return samplesInput array containing data for the samples\n",
    "    @return samplesOutput vector with the correct number of spots in each sample\n",
    "    \n",
    "    \"\"\"\n",
    "    # allocate memory, note the colour channel\n",
    "    samplesInput = np.zeros((numSamples, numCells, numCells, 3), np.float32)\n",
    "    samplesOutput = np.zeros((numSamples,), np.int8)\n",
    "    data = np.zeros((numCells, numCells), np.float32)\n",
    "    # create the samples\n",
    "    for sample in range(numSamples):\n",
    "        numSpots = int(maxNumSpots * np.random.random() + 0.5)\n",
    "        data[:] = 0 \n",
    "        for i in range(numSpots):\n",
    "            # random radius\n",
    "            rad = 0.1 + 0.0*np.random.random()  # currently fixed radius of 0.1\n",
    "            # random location\n",
    "            x0, y0 = 0.1 + 0.8*np.random.random(), 0.1 + 0.8*np.random.random()\n",
    "            data += np.exp( -((xxs - x0)**2 + (yys - y0)**2)/rad**2 )\n",
    "        # normalize, filter nans\n",
    "        maxVal = data.max()\n",
    "        if maxVal != 0:\n",
    "            data /= maxVal\n",
    "        data = np.nan_to_num(data)\n",
    "        samplesInput[sample, :, :, 0] = data\n",
    "        samplesInput[sample, :, :, 1] = 0.8*data\n",
    "        samplesInput[sample, :, :, 2] = 0.7*data\n",
    "        # map the number of spots to one of our categories (classIndex is \n",
    "        # in the range 0...len(categories) - 1)\n",
    "        classIndex = [eval(f'{numSpots}' + c) for c in categories].index(True)\n",
    "        samplesOutput[sample] = classIndex\n",
    "  \n",
    "    return samplesInput, samplesOutput"
   ]
  },
  {
   "cell_type": "markdown",
   "metadata": {
    "colab_type": "text",
    "id": "uZH-qbG625OG"
   },
   "source": [
    "### Function to plot the data"
   ]
  },
  {
   "cell_type": "code",
   "execution_count": 204,
   "metadata": {
    "colab": {},
    "colab_type": "code",
    "id": "X0a4Z_KvJesY"
   },
   "outputs": [],
   "source": [
    "import matplotlib.pylab as plt\n",
    "\n",
    "numCols = 5\n",
    "def plotData(iBeg, iEnd, dataInput, dataOutput, dataReferenceOutput=[]):\n",
    "    \"\"\"\n",
    "    Plot the data\n",
    "    @param iBeg start index in the dataset (list of 2D data)\n",
    "    @param iEnd one past the last index in the dataset\n",
    "    @param dataInput dataset\n",
    "    @param dataOutput number of spots for each data array\n",
    "    @param dataReferenceOutput correct number of spots for each data array\n",
    "  \n",
    "    \"\"\"\n",
    "    numPlots = iEnd - iBeg\n",
    "    numRows = numPlots // numCols\n",
    "    if numPlots % numCols > 0:\n",
    "        numRows += 1\n",
    "    for i in range(iBeg, iEnd):\n",
    "        plt.subplot(numRows, numCols, i - iBeg + 1)\n",
    "        plt.imshow(dataInput[i, ...], cmap='YlOrBr')\n",
    "        plt.axis('off')\n",
    "        txt = f'{categories[dataOutput[i]]}'\n",
    "        if len(dataReferenceOutput) > 0:\n",
    "            txt += f' (ex {dataReferenceOutput[i]})'\n",
    "        plt.title(txt, fontsize=8)\n",
    "    plt.show()"
   ]
  },
  {
   "cell_type": "markdown",
   "metadata": {
    "colab_type": "text",
    "id": "0YWcSMMqK0H8"
   },
   "source": [
    "## Creating the training samples"
   ]
  },
  {
   "cell_type": "code",
   "execution_count": 205,
   "metadata": {
    "colab": {},
    "colab_type": "code",
    "id": "FW3bKnFEK3Iw"
   },
   "outputs": [
    {
     "data": {
      "image/png": "[encoded data removed]",
      "text/plain": [
       "<Figure size 432x288 with 10 Axes>"
      ]
     },
     "metadata": {
      "needs_background": "light"
     },
     "output_type": "display_data"
    }
   ],
   "source": [
    "trainInput, trainOutput = generateRandomSamples(numTrain)\n",
    "plotData(0, min(10, numTrain), trainInput, trainOutput)  # plotting a subset of the training dataset"
   ]
  },
  {
   "cell_type": "markdown",
   "metadata": {
    "colab_type": "text",
    "id": "RfbLH7mzVjke"
   },
   "source": [
    "## Creating the test samples"
   ]
  },
  {
   "cell_type": "code",
   "execution_count": 206,
   "metadata": {
    "colab": {},
    "colab_type": "code",
    "id": "4cbhKsF1GZQB"
   },
   "outputs": [
    {
     "data": {
      "image/png": "[encoded data removed]",
      "text/plain": [
       "<Figure size 432x288 with 10 Axes>"
      ]
     },
     "metadata": {
      "needs_background": "light"
     },
     "output_type": "display_data"
    }
   ],
   "source": [
    "testInput, testOutput = generateRandomSamples(numTest)\n",
    "plotData(0, min(10, numTest), testInput, testOutput)  # plotting a subset of the testing dataset"
   ]
  },
  {
   "cell_type": "markdown",
   "metadata": {
    "colab_type": "text",
    "id": "QDOtXwfzWRNG"
   },
   "source": [
    "## Creating a neural network"
   ]
  },
  {
   "cell_type": "code",
   "execution_count": 231,
   "metadata": {
    "colab": {
     "base_uri": "https://localhost:8080/",
     "height": 793
    },
    "colab_type": "code",
    "id": "EQAdT3ObWNOj",
    "outputId": "8f05bd46-e2a4-4ca4-cfc9-91027b7c32fa"
   },
   "outputs": [],
   "source": [
    "from tensorflow import keras\n",
    "\n",
    "model = keras.Sequential()\n",
    "\n",
    "# build the neural network\n",
    "modelPretrained = keras.applications. mobilenet.MobileNet(weights='imagenet',\n",
    "                                            include_top=False,\n",
    "                                            pooling='avg',\n",
    "                                            alpha=0.75,\n",
    "                                            dropout=0.01,\n",
    "                                            input_shape=(numCells, numCells, 3))\n",
    "\n",
    "model.add(modelPretrained)\n",
    "\n",
    "for nn in (16, 16):\n",
    "    model.add(keras.layers.Dense(nn, activation='relu'))\n",
    "    model.add(keras.layers.Dropout(0.5))\n",
    "\n",
    "model.add(keras.layers.Dense(len(categories), activation='softmax'))\n",
    "\n",
    "model.layers[0].trainable = False\n",
    "\n",
    "# configure the model for training\n",
    "model.compile(optimizer='adam', \n",
    "              loss='sparse_categorical_crossentropy',\n",
    "              metrics=['accuracy'])\n"
   ]
  },
  {
   "cell_type": "markdown",
   "metadata": {},
   "source": [
    "## Training the neural network\n",
    "\n",
    "The input is a 4d tensor which should have shape (samples, rows, cols, channels)."
   ]
  },
  {
   "cell_type": "code",
   "execution_count": null,
   "metadata": {
    "colab": {
     "base_uri": "https://localhost:8080/",
     "height": 793
    },
    "colab_type": "code",
    "id": "EQAdT3ObWNOj",
    "outputId": "8f05bd46-e2a4-4ca4-cfc9-91027b7c32fa"
   },
   "outputs": [
    {
     "name": "stdout",
     "output_type": "stream",
     "text": [
      "Train on 1800 samples, validate on 200 samples\n",
      "Epoch 1/20\n",
      "1800/1800 [==============================] - 18s 10ms/sample - loss: 1.0506 - accuracy: 0.4333 - val_loss: 0.8971 - val_accuracy: 0.6850\n",
      "Epoch 2/20\n",
      "1800/1800 [==============================] - 18s 10ms/sample - loss: 0.8864 - accuracy: 0.5322 - val_loss: 0.9778 - val_accuracy: 0.5000\n",
      "Epoch 3/20\n",
      "1800/1800 [==============================] - 18s 10ms/sample - loss: 0.8145 - accuracy: 0.5617 - val_loss: 0.9482 - val_accuracy: 0.5550\n",
      "Epoch 4/20\n",
      "1800/1800 [==============================] - 15s 8ms/sample - loss: 0.7780 - accuracy: 0.6039 - val_loss: 0.9074 - val_accuracy: 0.7200\n",
      "Epoch 5/20\n",
      "1800/1800 [==============================] - 15s 8ms/sample - loss: 0.6888 - accuracy: 0.6794 - val_loss: 0.9114 - val_accuracy: 0.6000\n",
      "Epoch 6/20\n",
      "1800/1800 [==============================] - 15s 8ms/sample - loss: 0.6929 - accuracy: 0.6694 - val_loss: 0.9003 - val_accuracy: 0.5650\n",
      "Epoch 7/20\n",
      "1800/1800 [==============================] - 15s 8ms/sample - loss: 0.6703 - accuracy: 0.6728 - val_loss: 0.8204 - val_accuracy: 0.7200\n",
      "Epoch 8/20\n",
      "1800/1800 [==============================] - 15s 8ms/sample - loss: 0.6462 - accuracy: 0.7028 - val_loss: 0.8653 - val_accuracy: 0.7050\n",
      "Epoch 9/20\n",
      "1800/1800 [==============================] - 15s 8ms/sample - loss: 0.6743 - accuracy: 0.6706 - val_loss: 1.0059 - val_accuracy: 0.4150\n",
      "Epoch 10/20\n",
      "1800/1800 [==============================] - 15s 8ms/sample - loss: 0.6436 - accuracy: 0.7022 - val_loss: 0.9769 - val_accuracy: 0.4850\n",
      "Epoch 11/20\n",
      "1800/1800 [==============================] - 15s 8ms/sample - loss: 0.6281 - accuracy: 0.7117 - val_loss: 0.9619 - val_accuracy: 0.5100\n",
      "Epoch 12/20\n",
      "1800/1800 [==============================] - 15s 8ms/sample - loss: 0.6313 - accuracy: 0.7011 - val_loss: 0.9464 - val_accuracy: 0.5250\n",
      "Epoch 13/20\n",
      "1800/1800 [==============================] - 16s 9ms/sample - loss: 0.6342 - accuracy: 0.7000 - val_loss: 0.8809 - val_accuracy: 0.5900\n",
      "Epoch 14/20\n",
      "1800/1800 [==============================] - 16s 9ms/sample - loss: 0.6436 - accuracy: 0.7017 - val_loss: 0.8561 - val_accuracy: 0.6100\n",
      "Epoch 15/20\n",
      "1800/1800 [==============================] - 15s 8ms/sample - loss: 0.5872 - accuracy: 0.7250 - val_loss: 0.9187 - val_accuracy: 0.5500\n",
      "Epoch 16/20\n",
      "1800/1800 [==============================] - 15s 8ms/sample - loss: 0.6029 - accuracy: 0.7272 - val_loss: 0.8469 - val_accuracy: 0.6050\n",
      "Epoch 17/20\n",
      "1800/1800 [==============================] - 15s 9ms/sample - loss: 0.6057 - accuracy: 0.7078 - val_loss: 0.8808 - val_accuracy: 0.5100\n",
      "Epoch 18/20\n",
      "1800/1800 [==============================] - 15s 8ms/sample - loss: 0.5986 - accuracy: 0.7200 - val_loss: 0.9031 - val_accuracy: 0.4900\n",
      "Epoch 19/20\n",
      "1248/1800 [===================>..........] - ETA: 4s - loss: 0.6220 - accuracy: 0.6987"
     ]
    }
   ],
   "source": [
    "numEpochs = 20\n",
    "history = model.fit(trainInput,\n",
    "                    trainOutput, epochs=numEpochs, validation_split=0.1, batch_size=16)"
   ]
  },
  {
   "cell_type": "markdown",
   "metadata": {},
   "source": [
    "## Plotting the model performance"
   ]
  },
  {
   "cell_type": "code",
   "execution_count": 230,
   "metadata": {},
   "outputs": [
    {
     "data": {
      "image/png": "[encoded data removed]",
      "text/plain": [
       "<Figure size 432x288 with 1 Axes>"
      ]
     },
     "metadata": {
      "needs_background": "light"
     },
     "output_type": "display_data"
    }
   ],
   "source": [
    "# plot the loss against epoch\n",
    "plt.plot(history.history['accuracy'], label='accuracy')\n",
    "plt.plot(history.history['val_accuracy'], label='val accuracy')\n",
    "plt.xlabel('Epoch')\n",
    "plt.ylabel('Accuracy')\n",
    "plt.ylim([0, 1])\n",
    "plt.legend(loc='best')\n",
    "plt.show()"
   ]
  },
  {
   "cell_type": "markdown",
   "metadata": {},
   "source": [
    "## Summary of the model"
   ]
  },
  {
   "cell_type": "code",
   "execution_count": 190,
   "metadata": {},
   "outputs": [
    {
     "name": "stdout",
     "output_type": "stream",
     "text": [
      "Model: \"model_20\"\n",
      "_________________________________________________________________\n",
      "Layer (type)                 Output Shape              Param #   \n",
      "=================================================================\n",
      "input_22 (InputLayer)        [(None, 128, 128, 3)]     0         \n",
      "_________________________________________________________________\n",
      "conv1_pad (ZeroPadding2D)    (None, 129, 129, 3)       0         \n",
      "_________________________________________________________________\n",
      "conv1 (Conv2D)               (None, 64, 64, 24)        648       \n",
      "_________________________________________________________________\n",
      "conv1_bn (BatchNormalization (None, 64, 64, 24)        96        \n",
      "_________________________________________________________________\n",
      "conv1_relu (ReLU)            (None, 64, 64, 24)        0         \n",
      "_________________________________________________________________\n",
      "conv_dw_1 (DepthwiseConv2D)  (None, 64, 64, 24)        216       \n",
      "_________________________________________________________________\n",
      "conv_dw_1_bn (BatchNormaliza (None, 64, 64, 24)        96        \n",
      "_________________________________________________________________\n",
      "conv_dw_1_relu (ReLU)        (None, 64, 64, 24)        0         \n",
      "_________________________________________________________________\n",
      "conv_pw_1 (Conv2D)           (None, 64, 64, 48)        1152      \n",
      "_________________________________________________________________\n",
      "conv_pw_1_bn (BatchNormaliza (None, 64, 64, 48)        192       \n",
      "_________________________________________________________________\n",
      "conv_pw_1_relu (ReLU)        (None, 64, 64, 48)        0         \n",
      "_________________________________________________________________\n",
      "conv_pad_2 (ZeroPadding2D)   (None, 65, 65, 48)        0         \n",
      "_________________________________________________________________\n",
      "conv_dw_2 (DepthwiseConv2D)  (None, 32, 32, 48)        432       \n",
      "_________________________________________________________________\n",
      "conv_dw_2_bn (BatchNormaliza (None, 32, 32, 48)        192       \n",
      "_________________________________________________________________\n",
      "conv_dw_2_relu (ReLU)        (None, 32, 32, 48)        0         \n",
      "_________________________________________________________________\n",
      "conv_pw_2 (Conv2D)           (None, 32, 32, 96)        4608      \n",
      "_________________________________________________________________\n",
      "conv_pw_2_bn (BatchNormaliza (None, 32, 32, 96)        384       \n",
      "_________________________________________________________________\n",
      "conv_pw_2_relu (ReLU)        (None, 32, 32, 96)        0         \n",
      "_________________________________________________________________\n",
      "conv_dw_3 (DepthwiseConv2D)  (None, 32, 32, 96)        864       \n",
      "_________________________________________________________________\n",
      "conv_dw_3_bn (BatchNormaliza (None, 32, 32, 96)        384       \n",
      "_________________________________________________________________\n",
      "conv_dw_3_relu (ReLU)        (None, 32, 32, 96)        0         \n",
      "_________________________________________________________________\n",
      "conv_pw_3 (Conv2D)           (None, 32, 32, 96)        9216      \n",
      "_________________________________________________________________\n",
      "conv_pw_3_bn (BatchNormaliza (None, 32, 32, 96)        384       \n",
      "_________________________________________________________________\n",
      "conv_pw_3_relu (ReLU)        (None, 32, 32, 96)        0         \n",
      "_________________________________________________________________\n",
      "conv_pad_4 (ZeroPadding2D)   (None, 33, 33, 96)        0         \n",
      "_________________________________________________________________\n",
      "conv_dw_4 (DepthwiseConv2D)  (None, 16, 16, 96)        864       \n",
      "_________________________________________________________________\n",
      "conv_dw_4_bn (BatchNormaliza (None, 16, 16, 96)        384       \n",
      "_________________________________________________________________\n",
      "conv_dw_4_relu (ReLU)        (None, 16, 16, 96)        0         \n",
      "_________________________________________________________________\n",
      "conv_pw_4 (Conv2D)           (None, 16, 16, 192)       18432     \n",
      "_________________________________________________________________\n",
      "conv_pw_4_bn (BatchNormaliza (None, 16, 16, 192)       768       \n",
      "_________________________________________________________________\n",
      "conv_pw_4_relu (ReLU)        (None, 16, 16, 192)       0         \n",
      "_________________________________________________________________\n",
      "conv_dw_5 (DepthwiseConv2D)  (None, 16, 16, 192)       1728      \n",
      "_________________________________________________________________\n",
      "conv_dw_5_bn (BatchNormaliza (None, 16, 16, 192)       768       \n",
      "_________________________________________________________________\n",
      "conv_dw_5_relu (ReLU)        (None, 16, 16, 192)       0         \n",
      "_________________________________________________________________\n",
      "conv_pw_5 (Conv2D)           (None, 16, 16, 192)       36864     \n",
      "_________________________________________________________________\n",
      "conv_pw_5_bn (BatchNormaliza (None, 16, 16, 192)       768       \n",
      "_________________________________________________________________\n",
      "conv_pw_5_relu (ReLU)        (None, 16, 16, 192)       0         \n",
      "_________________________________________________________________\n",
      "conv_pad_6 (ZeroPadding2D)   (None, 17, 17, 192)       0         \n",
      "_________________________________________________________________\n",
      "conv_dw_6 (DepthwiseConv2D)  (None, 8, 8, 192)         1728      \n",
      "_________________________________________________________________\n",
      "conv_dw_6_bn (BatchNormaliza (None, 8, 8, 192)         768       \n",
      "_________________________________________________________________\n",
      "conv_dw_6_relu (ReLU)        (None, 8, 8, 192)         0         \n",
      "_________________________________________________________________\n",
      "conv_pw_6 (Conv2D)           (None, 8, 8, 384)         73728     \n",
      "_________________________________________________________________\n",
      "conv_pw_6_bn (BatchNormaliza (None, 8, 8, 384)         1536      \n",
      "_________________________________________________________________\n",
      "conv_pw_6_relu (ReLU)        (None, 8, 8, 384)         0         \n",
      "_________________________________________________________________\n",
      "conv_dw_7 (DepthwiseConv2D)  (None, 8, 8, 384)         3456      \n",
      "_________________________________________________________________\n",
      "conv_dw_7_bn (BatchNormaliza (None, 8, 8, 384)         1536      \n",
      "_________________________________________________________________\n",
      "conv_dw_7_relu (ReLU)        (None, 8, 8, 384)         0         \n",
      "_________________________________________________________________\n",
      "conv_pw_7 (Conv2D)           (None, 8, 8, 384)         147456    \n",
      "_________________________________________________________________\n",
      "conv_pw_7_bn (BatchNormaliza (None, 8, 8, 384)         1536      \n",
      "_________________________________________________________________\n",
      "conv_pw_7_relu (ReLU)        (None, 8, 8, 384)         0         \n",
      "_________________________________________________________________\n",
      "conv_dw_8 (DepthwiseConv2D)  (None, 8, 8, 384)         3456      \n",
      "_________________________________________________________________\n",
      "conv_dw_8_bn (BatchNormaliza (None, 8, 8, 384)         1536      \n",
      "_________________________________________________________________\n",
      "conv_dw_8_relu (ReLU)        (None, 8, 8, 384)         0         \n",
      "_________________________________________________________________\n",
      "conv_pw_8 (Conv2D)           (None, 8, 8, 384)         147456    \n",
      "_________________________________________________________________\n",
      "conv_pw_8_bn (BatchNormaliza (None, 8, 8, 384)         1536      \n",
      "_________________________________________________________________\n",
      "conv_pw_8_relu (ReLU)        (None, 8, 8, 384)         0         \n",
      "_________________________________________________________________\n",
      "conv_dw_9 (DepthwiseConv2D)  (None, 8, 8, 384)         3456      \n",
      "_________________________________________________________________\n",
      "conv_dw_9_bn (BatchNormaliza (None, 8, 8, 384)         1536      \n",
      "_________________________________________________________________\n",
      "conv_dw_9_relu (ReLU)        (None, 8, 8, 384)         0         \n",
      "_________________________________________________________________\n",
      "conv_pw_9 (Conv2D)           (None, 8, 8, 384)         147456    \n",
      "_________________________________________________________________\n",
      "conv_pw_9_bn (BatchNormaliza (None, 8, 8, 384)         1536      \n",
      "_________________________________________________________________\n",
      "conv_pw_9_relu (ReLU)        (None, 8, 8, 384)         0         \n",
      "_________________________________________________________________\n",
      "conv_dw_10 (DepthwiseConv2D) (None, 8, 8, 384)         3456      \n",
      "_________________________________________________________________\n",
      "conv_dw_10_bn (BatchNormaliz (None, 8, 8, 384)         1536      \n",
      "_________________________________________________________________\n",
      "conv_dw_10_relu (ReLU)       (None, 8, 8, 384)         0         \n",
      "_________________________________________________________________\n",
      "conv_pw_10 (Conv2D)          (None, 8, 8, 384)         147456    \n",
      "_________________________________________________________________\n",
      "conv_pw_10_bn (BatchNormaliz (None, 8, 8, 384)         1536      \n",
      "_________________________________________________________________\n",
      "conv_pw_10_relu (ReLU)       (None, 8, 8, 384)         0         \n",
      "_________________________________________________________________\n",
      "conv_dw_11 (DepthwiseConv2D) (None, 8, 8, 384)         3456      \n",
      "_________________________________________________________________\n",
      "conv_dw_11_bn (BatchNormaliz (None, 8, 8, 384)         1536      \n",
      "_________________________________________________________________\n",
      "conv_dw_11_relu (ReLU)       (None, 8, 8, 384)         0         \n",
      "_________________________________________________________________\n",
      "conv_pw_11 (Conv2D)          (None, 8, 8, 384)         147456    \n",
      "_________________________________________________________________\n",
      "conv_pw_11_bn (BatchNormaliz (None, 8, 8, 384)         1536      \n",
      "_________________________________________________________________\n",
      "conv_pw_11_relu (ReLU)       (None, 8, 8, 384)         0         \n",
      "_________________________________________________________________\n",
      "conv_pad_12 (ZeroPadding2D)  (None, 9, 9, 384)         0         \n",
      "_________________________________________________________________\n",
      "conv_dw_12 (DepthwiseConv2D) (None, 4, 4, 384)         3456      \n",
      "_________________________________________________________________\n",
      "conv_dw_12_bn (BatchNormaliz (None, 4, 4, 384)         1536      \n",
      "_________________________________________________________________\n",
      "conv_dw_12_relu (ReLU)       (None, 4, 4, 384)         0         \n",
      "_________________________________________________________________\n",
      "conv_pw_12 (Conv2D)          (None, 4, 4, 768)         294912    \n",
      "_________________________________________________________________\n",
      "conv_pw_12_bn (BatchNormaliz (None, 4, 4, 768)         3072      \n",
      "_________________________________________________________________\n",
      "conv_pw_12_relu (ReLU)       (None, 4, 4, 768)         0         \n",
      "_________________________________________________________________\n",
      "conv_dw_13 (DepthwiseConv2D) (None, 4, 4, 768)         6912      \n",
      "_________________________________________________________________\n",
      "conv_dw_13_bn (BatchNormaliz (None, 4, 4, 768)         3072      \n",
      "_________________________________________________________________\n",
      "conv_dw_13_relu (ReLU)       (None, 4, 4, 768)         0         \n",
      "_________________________________________________________________\n",
      "conv_pw_13 (Conv2D)          (None, 4, 4, 768)         589824    \n",
      "_________________________________________________________________\n",
      "conv_pw_13_bn (BatchNormaliz (None, 4, 4, 768)         3072      \n",
      "_________________________________________________________________\n",
      "conv_pw_13_relu (ReLU)       (None, 4, 4, 768)         0         \n",
      "_________________________________________________________________\n",
      "global_max_pooling2d_7 (Glob (None, 768)               0         \n",
      "_________________________________________________________________\n",
      "flatten_21 (Flatten)         (None, 768)               0         \n",
      "_________________________________________________________________\n",
      "dense_66 (Dense)             (None, 3)                 2307      \n",
      "=================================================================\n",
      "Total params: 1,835,283\n",
      "Trainable params: 2,307\n",
      "Non-trainable params: 1,832,976\n",
      "_________________________________________________________________\n"
     ]
    }
   ],
   "source": [
    "# give a summary of the model\n",
    "model.summary()"
   ]
  },
  {
   "cell_type": "markdown",
   "metadata": {
    "colab_type": "text",
    "id": "xrn3IG8YYI9D"
   },
   "source": [
    "## Predicting the the number of spots in each test sample"
   ]
  },
  {
   "cell_type": "code",
   "execution_count": 86,
   "metadata": {
    "colab": {
     "base_uri": "https://localhost:8080/",
     "height": 134
    },
    "colab_type": "code",
    "id": "ORR1x-s_YLjX",
    "outputId": "a834fc5f-0e7e-4adc-b899-8af8066ce8ef"
   },
   "outputs": [
    {
     "name": "stdout",
     "output_type": "stream",
     "text": [
      "[1 1 3 3 0 3 3 2 2 1 3 0 2 3 1 0 1 3 3 0 0 3 1 2 3 0 3 3 2 3 2 0 3 1 3 0 3\n",
      " 3 1 2 1 2 0 0 3 1 0 1 3 0 0 3 3 0 2 0 3 0 0 1 1 0 1 2 3 0 0 0 0 3 3 3 1 2\n",
      " 2 2 2 3 0 3 3 3 2 2 2 1 1 3 1 0 0 0 3 3 1 2 0 0 0 3]\n",
      "num errors = 71 (71.0 %)\n"
     ]
    }
   ],
   "source": [
    "predictionProbs = model.predict(testInput)\n",
    "predClassInds = np.argmax(predictionProbs, axis=1)\n",
    "# compute the errors: difference between predictions and testOuput\n",
    "errors = predClassInds - testOutput\n",
    "numErrors = (errors != 0).sum()\n",
    "print(errors)\n",
    "print(f'num errors = {numErrors} ({100*numErrors/numTest} %)')"
   ]
  },
  {
   "cell_type": "markdown",
   "metadata": {
    "colab_type": "text",
    "id": "KfdSdvj84GaR"
   },
   "source": [
    "\n",
    "Plotting datasets for which the predictions were wrong"
   ]
  },
  {
   "cell_type": "code",
   "execution_count": 23,
   "metadata": {
    "colab": {
     "base_uri": "https://localhost:8080/",
     "height": 237
    },
    "colab_type": "code",
    "id": "zz01RfV3jwyC",
    "outputId": "05524024-e5c8-4d68-e5c2-756bcf16696c"
   },
   "outputs": [
    {
     "data": {
      "image/png": "[encoded data removed]",
      "text/plain": [
       "<Figure size 432x288 with 10 Axes>"
      ]
     },
     "metadata": {
      "needs_background": "light"
     },
     "output_type": "display_data"
    }
   ],
   "source": [
    "inds = np.nonzero(errors != 0)[0]\n",
    "failuresInput = testInput[inds, :]\n",
    "failuresOutput = predClassInds[inds]\n",
    "correctOutput = [categories[i] for i in testOutput[inds]]\n",
    "numFailures = len(failuresOutput)\n",
    "plotData(0, min(10, numFailures), failuresInput, failuresOutput, correctOutput)"
   ]
  },
  {
   "cell_type": "markdown",
   "metadata": {},
   "source": [
    "## Exercise\n",
    "\n",
    "Try to improve our initial model. Feel free to change anything above, such as:\n",
    "\n",
    "* parameters for the layers (convolution, pooling, dense - see for example the [convolution layers documentation](https://keras.io/layers/convolutional/))\n",
    "  - number of filters, kernel size, stride, etc.\n",
    "* add or remove layers (e.g. convolution, pooling, dense layers)\n",
    "* adjust other parameters, e.g. the size of the input dataset\n",
    "\n",
    "See if you can reduce the error.\n",
    "\n",
    "Once you have improved improved your model, try changing the random seed and see if the behaviour changes."
   ]
  },
  {
   "cell_type": "code",
   "execution_count": null,
   "metadata": {},
   "outputs": [],
   "source": []
  }
 ],
 "metadata": {
  "colab": {
   "collapsed_sections": [],
   "name": "countSpots.ipynb",
   "provenance": [],
   "version": "0.3.2"
  },
  "kernelspec": {
   "display_name": "Python 3",
   "language": "python",
   "name": "python3"
  },
  "language_info": {
   "codemirror_mode": {
    "name": "ipython",
    "version": 3
   },
   "file_extension": ".py",
   "mimetype": "text/x-python",
   "name": "python",
   "nbconvert_exporter": "python",
   "pygments_lexer": "ipython3",
   "version": "3.7.5"
  }
 },
 "nbformat": 4,
 "nbformat_minor": 4
}
