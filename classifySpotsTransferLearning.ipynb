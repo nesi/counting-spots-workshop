{
 "cells": [
  {
   "cell_type": "markdown",
   "metadata": {
    "colab_type": "text",
    "id": "4MQ_yeaXGGvF"
   },
   "source": [
    "# Spot the spots\n",
    "\n",
    "## Introduction to Machine Learning on NeSI Workshop\n",
    "\n",
    "This notebook shows how machine learning can be applied to feature detection. You're faced with the tedious task of counting \"spots\" present in a large number of data samples. The spots may represent pictures of fishes, tropical cyclones, skin moles, tumours or black holes - you choose.\n",
    "\n",
    "*In this version the number of spots are classified into separate categories using a pretrained model.*"
   ]
  },
  {
   "cell_type": "markdown",
   "metadata": {},
   "source": [
    "## Requirements\n",
    "\n",
    "You will need:\n",
    "    \n",
    " * Python 3\n",
    " * NumPy\n",
    " * Matplotlib\n",
    " * TensorFlow 2.0"
   ]
  },
  {
   "cell_type": "markdown",
   "metadata": {
    "colab_type": "text",
    "id": "eeTk9C4kSqGR"
   },
   "source": [
    "## Input parameters for the dataset"
   ]
  },
  {
   "cell_type": "code",
   "execution_count": 1,
   "metadata": {
    "colab": {},
    "colab_type": "code",
    "id": "eB9GyZ4gGBJj"
   },
   "outputs": [],
   "source": [
    "# dataset input values - feel free to change\n",
    "numTrain = 1000     # number of training samples\n",
    "numTest = 100       # number of testing samples\n",
    "numCells = 128       # the data have size numCells x numCells\n",
    "maxNumSpots = 5     # the maximum number of spots 0...maxNumSpots\n",
    "categories = ['<=1', '==2', '==3', '>=4'] # classification categories (1 spot or less, 2 spots, etc.)"
   ]
  },
  {
   "cell_type": "markdown",
   "metadata": {},
   "source": [
    "## Reproducible results for testing the model\n",
    "\n",
    "Setting the random seeds ensures you will get the same results when running this notebook from the start (Restart and Run All). Feel free change the seed value or comment out this block to test your model on different data."
   ]
  },
  {
   "cell_type": "code",
   "execution_count": 2,
   "metadata": {
    "colab": {},
    "colab_type": "code",
    "id": "LILclWIoGgk7"
   },
   "outputs": [],
   "source": [
    "random_seed = 123\n",
    "\n",
    "import numpy as np\n",
    "np.random.seed(random_seed)\n",
    "\n",
    "import tensorflow as tf\n",
    "tf.random.set_seed(random_seed)\n",
    "\n",
    "import random\n",
    "random.seed(random_seed)"
   ]
  },
  {
   "cell_type": "markdown",
   "metadata": {},
   "source": [
    "## Where the code will run\n",
    "\n",
    "Uncomment these commands to show what devices are available and are being used."
   ]
  },
  {
   "cell_type": "code",
   "execution_count": 3,
   "metadata": {},
   "outputs": [],
   "source": [
    "# list available GPUs\n",
    "#tf.config.experimental.list_physical_devices()"
   ]
  },
  {
   "cell_type": "code",
   "execution_count": 4,
   "metadata": {},
   "outputs": [],
   "source": [
    "# print info about which device operations are running on\n",
    "#tf.debugging.set_log_device_placement(True)"
   ]
  },
  {
   "cell_type": "markdown",
   "metadata": {
    "colab_type": "text",
    "id": "6cR7592zS0nI"
   },
   "source": [
    "## Some convenience functions"
   ]
  },
  {
   "cell_type": "markdown",
   "metadata": {
    "colab_type": "text",
    "id": "22gecBZaGasA"
   },
   "source": [
    "### Function to generate random samples\n",
    "\n",
    "Each sample is a 2d image/data with spots at random locations."
   ]
  },
  {
   "cell_type": "code",
   "execution_count": 5,
   "metadata": {
    "colab": {},
    "colab_type": "code",
    "id": "LILclWIoGgk7"
   },
   "outputs": [],
   "source": [
    "# define the 2d grid\n",
    "xs = np.linspace(0., 1., numCells)\n",
    "ys = np.linspace(0., 1., numCells)\n",
    "xxs, yys = np.meshgrid(xs, ys)\n",
    "\n",
    "def generateRandomSamples(numSamples):\n",
    "    \"\"\"\n",
    "    Generate samples containing random data with spots (Gaussian field over zero background)\n",
    "    @param numSamples number of samples to generate\n",
    "    @return samplesInput array containing data for the samples\n",
    "    @return samplesOutput vector with the correct number of spots in each sample\n",
    "    \n",
    "    \"\"\"\n",
    "    # allocate memory, note the colour channel\n",
    "    samplesInput = np.zeros((numSamples, numCells, numCells, 3), np.float32)\n",
    "    samplesOutput = np.zeros((numSamples,), np.int8)\n",
    "    data = np.zeros((numCells, numCells), np.float32)\n",
    "    # create the samples\n",
    "    for sample in range(numSamples):\n",
    "        numSpots = int(maxNumSpots * np.random.random() + 0.5)\n",
    "        data[:] = 0 \n",
    "        for i in range(numSpots):\n",
    "            # random radius\n",
    "            rad = 0.1 + 0.0*np.random.random()  # currently fixed radius of 0.1\n",
    "            # random location\n",
    "            x0, y0 = 0.1 + 0.8*np.random.random(), 0.1 + 0.8*np.random.random()\n",
    "            data += np.exp( -((xxs - x0)**2 + (yys - y0)**2)/rad**2 )\n",
    "        # normalize, filter nans\n",
    "        maxVal = data.max()\n",
    "        if maxVal != 0:\n",
    "            data /= maxVal\n",
    "        data = np.nan_to_num(data)\n",
    "        samplesInput[sample, :, :, 0] = data\n",
    "        samplesInput[sample, :, :, 1] = 0.8*data\n",
    "        samplesInput[sample, :, :, 2] = 0.7*data\n",
    "        # map the number of spots to one of our categories (classIndex is \n",
    "        # in the range 0...len(categories) - 1)\n",
    "        classIndex = [eval(f'{numSpots}' + c) for c in categories].index(True)\n",
    "        samplesOutput[sample] = classIndex\n",
    "  \n",
    "    return samplesInput, samplesOutput"
   ]
  },
  {
   "cell_type": "markdown",
   "metadata": {
    "colab_type": "text",
    "id": "uZH-qbG625OG"
   },
   "source": [
    "### Function to plot the data"
   ]
  },
  {
   "cell_type": "code",
   "execution_count": 6,
   "metadata": {
    "colab": {},
    "colab_type": "code",
    "id": "X0a4Z_KvJesY"
   },
   "outputs": [],
   "source": [
    "import matplotlib.pylab as plt\n",
    "\n",
    "numCols = 5\n",
    "def plotData(iBeg, iEnd, dataInput, dataOutput, dataReferenceOutput=[]):\n",
    "    \"\"\"\n",
    "    Plot the data\n",
    "    @param iBeg start index in the dataset (list of 2D data)\n",
    "    @param iEnd one past the last index in the dataset\n",
    "    @param dataInput dataset\n",
    "    @param dataOutput number of spots for each data array\n",
    "    @param dataReferenceOutput correct number of spots for each data array\n",
    "  \n",
    "    \"\"\"\n",
    "    numPlots = iEnd - iBeg\n",
    "    numRows = numPlots // numCols\n",
    "    if numPlots % numCols > 0:\n",
    "        numRows += 1\n",
    "    for i in range(iBeg, iEnd):\n",
    "        plt.subplot(numRows, numCols, i - iBeg + 1)\n",
    "        plt.imshow(dataInput[i, ...], cmap='YlOrBr')\n",
    "        plt.axis('off')\n",
    "        txt = f'{categories[dataOutput[i]]}'\n",
    "        if len(dataReferenceOutput) > 0:\n",
    "            txt += f' (ex {dataReferenceOutput[i]})'\n",
    "        plt.title(txt, fontsize=8)\n",
    "    plt.show()"
   ]
  },
  {
   "cell_type": "markdown",
   "metadata": {
    "colab_type": "text",
    "id": "0YWcSMMqK0H8"
   },
   "source": [
    "## Creating the training samples"
   ]
  },
  {
   "cell_type": "code",
   "execution_count": 7,
   "metadata": {
    "colab": {},
    "colab_type": "code",
    "id": "FW3bKnFEK3Iw"
   },
   "outputs": [
    {
     "data": {
      "image/png": "[encoded data removed]",
      "text/plain": [
       "<Figure size 432x288 with 10 Axes>"
      ]
     },
     "metadata": {
      "needs_background": "light"
     },
     "output_type": "display_data"
    }
   ],
   "source": [
    "trainInput, trainOutput = generateRandomSamples(numTrain)\n",
    "plotData(0, min(10, numTrain), trainInput, trainOutput)  # plotting a subset of the training dataset"
   ]
  },
  {
   "cell_type": "markdown",
   "metadata": {
    "colab_type": "text",
    "id": "RfbLH7mzVjke"
   },
   "source": [
    "## Creating the test samples"
   ]
  },
  {
   "cell_type": "code",
   "execution_count": 8,
   "metadata": {
    "colab": {},
    "colab_type": "code",
    "id": "4cbhKsF1GZQB"
   },
   "outputs": [
    {
     "data": {
      "image/png": "[encoded data removed]",
      "text/plain": [
       "<Figure size 432x288 with 10 Axes>"
      ]
     },
     "metadata": {
      "needs_background": "light"
     },
     "output_type": "display_data"
    }
   ],
   "source": [
    "testInput, testOutput = generateRandomSamples(numTest)\n",
    "plotData(0, min(10, numTest), testInput, testOutput)  # plotting a subset of the testing dataset"
   ]
  },
  {
   "cell_type": "markdown",
   "metadata": {
    "colab_type": "text",
    "id": "QDOtXwfzWRNG"
   },
   "source": [
    "## Creating a neural network"
   ]
  },
  {
   "cell_type": "code",
   "execution_count": 11,
   "metadata": {
    "colab": {
     "base_uri": "https://localhost:8080/",
     "height": 793
    },
    "colab_type": "code",
    "id": "EQAdT3ObWNOj",
    "outputId": "8f05bd46-e2a4-4ca4-cfc9-91027b7c32fa"
   },
   "outputs": [
    {
     "name": "stdout",
     "output_type": "stream",
     "text": [
      " number of layers: 21\n",
      "Model: \"model_2\"\n",
      "_________________________________________________________________\n",
      "Layer (type)                 Output Shape              Param #   \n",
      "=================================================================\n",
      "input_3 (InputLayer)         [(None, 128, 128, 3)]     0         \n",
      "_________________________________________________________________\n",
      "block1_conv1 (Conv2D)        (None, 128, 128, 64)      1792      \n",
      "_________________________________________________________________\n",
      "block1_conv2 (Conv2D)        (None, 128, 128, 64)      36928     \n",
      "_________________________________________________________________\n",
      "block1_pool (MaxPooling2D)   (None, 64, 64, 64)        0         \n",
      "_________________________________________________________________\n",
      "block2_conv1 (Conv2D)        (None, 64, 64, 128)       73856     \n",
      "_________________________________________________________________\n",
      "block2_conv2 (Conv2D)        (None, 64, 64, 128)       147584    \n",
      "_________________________________________________________________\n",
      "block2_pool (MaxPooling2D)   (None, 32, 32, 128)       0         \n",
      "_________________________________________________________________\n",
      "block3_conv1 (Conv2D)        (None, 32, 32, 256)       295168    \n",
      "_________________________________________________________________\n",
      "block3_conv2 (Conv2D)        (None, 32, 32, 256)       590080    \n",
      "_________________________________________________________________\n",
      "block3_conv3 (Conv2D)        (None, 32, 32, 256)       590080    \n",
      "_________________________________________________________________\n",
      "block3_pool (MaxPooling2D)   (None, 16, 16, 256)       0         \n",
      "_________________________________________________________________\n",
      "block4_conv1 (Conv2D)        (None, 16, 16, 512)       1180160   \n",
      "_________________________________________________________________\n",
      "block4_conv2 (Conv2D)        (None, 16, 16, 512)       2359808   \n",
      "_________________________________________________________________\n",
      "block4_conv3 (Conv2D)        (None, 16, 16, 512)       2359808   \n",
      "_________________________________________________________________\n",
      "block4_pool (MaxPooling2D)   (None, 8, 8, 512)         0         \n",
      "_________________________________________________________________\n",
      "block5_conv1 (Conv2D)        (None, 8, 8, 512)         2359808   \n",
      "_________________________________________________________________\n",
      "block5_conv2 (Conv2D)        (None, 8, 8, 512)         2359808   \n",
      "_________________________________________________________________\n",
      "block5_conv3 (Conv2D)        (None, 8, 8, 512)         2359808   \n",
      "_________________________________________________________________\n",
      "block5_pool (MaxPooling2D)   (None, 4, 4, 512)         0         \n",
      "_________________________________________________________________\n",
      "flatten_2 (Flatten)          (None, 8192)              0         \n",
      "_________________________________________________________________\n",
      "dense_2 (Dense)              (None, 4)                 32772     \n",
      "=================================================================\n",
      "Total params: 14,747,460\n",
      "Trainable params: 32,772\n",
      "Non-trainable params: 14,714,688\n",
      "_________________________________________________________________\n"
     ]
    }
   ],
   "source": [
    "from tensorflow import keras\n",
    "\n",
    "# download the model with pretrained weights using the imagenet set of data.\n",
    "# include_header = False allows us to set our own image size\n",
    "model0 = keras.applications.vgg16.VGG16(include_top=False,\n",
    "                                       weights='imagenet',\n",
    "                                       input_shape=(numCells, numCells, 3))\n",
    "\n",
    "# add classification layer(s)\n",
    "x = model0.output\n",
    "x = keras.layers.Flatten()(x)\n",
    "x = keras.layers.Dense(len(categories), activation='softmax')(x)\n",
    "\n",
    "# combine the pretrained model with our classification\n",
    "model = keras.models.Model(inputs=model0.input, outputs=x)\n",
    "\n",
    "# only adjust the weights from the last dense layer, keep all other \n",
    "# weights fixed\n",
    "print(f' number of layers: {len(model.layers)}')\n",
    "for layer in model.layers[:len(model.layers)-1]:\n",
    "    layer.trainable = False\n",
    "\n",
    "# check the topology, verify that only the last layer is trainable\n",
    "model.summary()\n",
    "\n",
    "# configure the model for training\n",
    "model.compile(optimizer='adam', \n",
    "              loss='sparse_categorical_crossentropy',\n",
    "              metrics=['accuracy'])"
   ]
  },
  {
   "cell_type": "markdown",
   "metadata": {},
   "source": [
    "## Training the neural network\n",
    "\n",
    "The input is a 4d tensor which should have shape (samples, rows, cols, channels)."
   ]
  },
  {
   "cell_type": "code",
   "execution_count": 12,
   "metadata": {
    "colab": {
     "base_uri": "https://localhost:8080/",
     "height": 793
    },
    "colab_type": "code",
    "id": "EQAdT3ObWNOj",
    "outputId": "8f05bd46-e2a4-4ca4-cfc9-91027b7c32fa",
    "scrolled": true
   },
   "outputs": [
    {
     "name": "stdout",
     "output_type": "stream",
     "text": [
      "Train on 800 samples, validate on 200 samples\n",
      "Epoch 1/10\n",
      "800/800 [==============================] - 114s 142ms/sample - loss: 1.1719 - accuracy: 0.4850 - val_loss: 0.9891 - val_accuracy: 0.5650\n",
      "Epoch 2/10\n",
      "800/800 [==============================] - 114s 142ms/sample - loss: 0.8551 - accuracy: 0.6300 - val_loss: 0.8476 - val_accuracy: 0.7150\n",
      "Epoch 3/10\n",
      "800/800 [==============================] - 111s 138ms/sample - loss: 0.7569 - accuracy: 0.6925 - val_loss: 0.7528 - val_accuracy: 0.7600\n",
      "Epoch 4/10\n",
      "800/800 [==============================] - 109s 136ms/sample - loss: 0.7094 - accuracy: 0.7237 - val_loss: 0.7196 - val_accuracy: 0.7550\n",
      "Epoch 5/10\n",
      "800/800 [==============================] - 107s 134ms/sample - loss: 0.6681 - accuracy: 0.7275 - val_loss: 0.7056 - val_accuracy: 0.6800\n",
      "Epoch 6/10\n",
      "800/800 [==============================] - 109s 137ms/sample - loss: 0.6200 - accuracy: 0.7812 - val_loss: 0.6851 - val_accuracy: 0.7600\n",
      "Epoch 7/10\n",
      "800/800 [==============================] - 107s 134ms/sample - loss: 0.5847 - accuracy: 0.7912 - val_loss: 0.7224 - val_accuracy: 0.6550\n",
      "Epoch 8/10\n",
      "800/800 [==============================] - 108s 134ms/sample - loss: 0.5660 - accuracy: 0.8112 - val_loss: 0.6502 - val_accuracy: 0.7200\n",
      "Epoch 9/10\n",
      "800/800 [==============================] - 108s 135ms/sample - loss: 0.5421 - accuracy: 0.8087 - val_loss: 0.6177 - val_accuracy: 0.7800\n",
      "Epoch 10/10\n",
      "800/800 [==============================] - 108s 135ms/sample - loss: 0.5237 - accuracy: 0.8225 - val_loss: 0.6040 - val_accuracy: 0.7750\n"
     ]
    }
   ],
   "source": [
    "numEpochs = 10\n",
    "history = model.fit(trainInput,\n",
    "                    trainOutput, \n",
    "                    epochs=numEpochs, \n",
    "                    validation_split=0.2, # 80 percent training, 20% testing\n",
    "                    batch_size=32) # number of training examples used before the weights are updated"
   ]
  },
  {
   "cell_type": "markdown",
   "metadata": {},
   "source": [
    "## Plotting the model performance"
   ]
  },
  {
   "cell_type": "code",
   "execution_count": 13,
   "metadata": {},
   "outputs": [
    {
     "data": {
      "image/png": "[encoded data removed]",
      "text/plain": [
       "<Figure size 432x288 with 1 Axes>"
      ]
     },
     "metadata": {
      "needs_background": "light"
     },
     "output_type": "display_data"
    }
   ],
   "source": [
    "# plot the loss against epoch\n",
    "plt.plot(history.history['accuracy'], label='accuracy')\n",
    "plt.plot(history.history['val_accuracy'], label='val accuracy')\n",
    "plt.xlabel('Epoch')\n",
    "plt.ylabel('Accuracy')\n",
    "plt.ylim([0, 1])\n",
    "plt.legend(loc='best')\n",
    "plt.show()"
   ]
  },
  {
   "cell_type": "markdown",
   "metadata": {
    "colab_type": "text",
    "id": "xrn3IG8YYI9D"
   },
   "source": [
    "## Predicting the the number of spots in each test sample"
   ]
  },
  {
   "cell_type": "code",
   "execution_count": 14,
   "metadata": {
    "colab": {
     "base_uri": "https://localhost:8080/",
     "height": 134
    },
    "colab_type": "code",
    "id": "ORR1x-s_YLjX",
    "outputId": "a834fc5f-0e7e-4adc-b899-8af8066ce8ef"
   },
   "outputs": [
    {
     "name": "stdout",
     "output_type": "stream",
     "text": [
      "[ 1  0  0  0  0  0  0  1  1 -1  0  0  0  0 -1  0  1  0  0  0  0  0  1  0\n",
      "  0  0  0  0  0  0  2  0  0 -1  0  0  0  0 -2  0 -2  1  0  0  0  1  0  1\n",
      "  0  0  0  0  0  0  1  0  0  0  0  1  1  0 -2  1  0  0  0  0  0  0  0  0\n",
      "  1  0  0  0  0  0  0  0  0  0  0  0 -1  0 -2  0 -2  0  0  0  0  0  0  0\n",
      "  0  0  0  0]\n",
      "num errors = 23 (23.0 %)\n"
     ]
    }
   ],
   "source": [
    "predictionProbs = model.predict(testInput)\n",
    "predClassInds = np.argmax(predictionProbs, axis=1)\n",
    "# compute the errors: difference between predictions and testOuput\n",
    "errors = predClassInds - testOutput\n",
    "numErrors = (errors != 0).sum()\n",
    "print(errors)\n",
    "print(f'num errors = {numErrors} ({100*numErrors/numTest} %)')"
   ]
  },
  {
   "cell_type": "markdown",
   "metadata": {
    "colab_type": "text",
    "id": "KfdSdvj84GaR"
   },
   "source": [
    "\n",
    "Plotting data for which the predictions are wrong"
   ]
  },
  {
   "cell_type": "code",
   "execution_count": 15,
   "metadata": {
    "colab": {
     "base_uri": "https://localhost:8080/",
     "height": 237
    },
    "colab_type": "code",
    "id": "zz01RfV3jwyC",
    "outputId": "05524024-e5c8-4d68-e5c2-756bcf16696c"
   },
   "outputs": [
    {
     "data": {
      "image/png": "[encoded data removed]",
      "text/plain": [
       "<Figure size 432x288 with 10 Axes>"
      ]
     },
     "metadata": {
      "needs_background": "light"
     },
     "output_type": "display_data"
    }
   ],
   "source": [
    "inds = np.nonzero(errors != 0)[0]\n",
    "failuresInput = testInput[inds, :]\n",
    "failuresOutput = predClassInds[inds]\n",
    "correctOutput = [categories[i] for i in testOutput[inds]]\n",
    "numFailures = len(failuresOutput)\n",
    "plotData(0, min(10, numFailures), failuresInput, failuresOutput, correctOutput)"
   ]
  },
  {
   "cell_type": "markdown",
   "metadata": {},
   "source": [
    "## Exercise\n",
    "\n",
    "Try to improve our initial model. Feel free to change anything above, such as:\n",
    "\n",
    "* the pretrained [model](https://keras.io/applications/)\n",
    "* appending dense layers before the classification layer\n",
    "* the number of layers for which the weights are kept fixed\n",
    "* adjust other parameters, e.g. the size of the input dataset\n",
    "\n",
    "See if you can reduce the error.\n",
    "\n",
    "Once you have improved improved your model, try changing the random seed and see if the behaviour changes."
   ]
  },
  {
   "cell_type": "code",
   "execution_count": null,
   "metadata": {},
   "outputs": [],
   "source": []
  }
 ],
 "metadata": {
  "colab": {
   "collapsed_sections": [],
   "name": "countSpots.ipynb",
   "provenance": [],
   "version": "0.3.2"
  },
  "kernelspec": {
   "display_name": "Python 3",
   "language": "python",
   "name": "python3"
  },
  "language_info": {
   "codemirror_mode": {
    "name": "ipython",
    "version": 3
   },
   "file_extension": ".py",
   "mimetype": "text/x-python",
   "name": "python",
   "nbconvert_exporter": "python",
   "pygments_lexer": "ipython3",
   "version": "3.7.5"
  }
 },
 "nbformat": 4,
 "nbformat_minor": 4
}
