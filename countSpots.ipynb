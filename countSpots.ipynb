{
 "cells": [
  {
   "cell_type": "markdown",
   "metadata": {
    "colab_type": "text",
    "id": "4MQ_yeaXGGvF"
   },
   "source": [
    "# Spot the spots\n",
    "\n",
    "Alex Pletzer NIWA hacky hour August 2 2019\n",
    "\n",
    "This notebook shows how machine learning can be applied to feature detection. You're faced with the tedious task of counting \"spots\" present in a large number of data samples. The spots may represent pictures of fishes, tropical cyclones, skin moles, tumours or black holes - you choose.\n",
    "\n",
    "*You want to hand over the task to a machine so you can spend more time relaxing with friends, family or at the beach.*"
   ]
  },
  {
   "cell_type": "markdown",
   "metadata": {
    "colab_type": "text",
    "id": "eeTk9C4kSqGR"
   },
   "source": [
    "## Input parameters"
   ]
  },
  {
   "cell_type": "code",
   "execution_count": 1,
   "metadata": {
    "colab": {},
    "colab_type": "code",
    "id": "eB9GyZ4gGBJj"
   },
   "outputs": [],
   "source": [
    "# input values - feel free to change\n",
    "numTrain = 1000 # number of training samples\n",
    "numTest = 100 # number of testing samples\n",
    "numCells = 40 # the data have size numCells x numCells\n",
    "maxNumSpots = 5 # the maximum number of spots 0...maxNumSpots"
   ]
  },
  {
   "cell_type": "markdown",
   "metadata": {
    "colab_type": "text",
    "id": "6cR7592zS0nI"
   },
   "source": [
    "## Some convenience functions"
   ]
  },
  {
   "cell_type": "markdown",
   "metadata": {
    "colab_type": "text",
    "id": "22gecBZaGasA"
   },
   "source": [
    "Function to generate 2D data with spots at random locations"
   ]
  },
  {
   "cell_type": "code",
   "execution_count": 2,
   "metadata": {
    "colab": {},
    "colab_type": "code",
    "id": "LILclWIoGgk7"
   },
   "outputs": [],
   "source": [
    "import numpy as np\n",
    "np.random.seed(123)  # so that results are reproducible\n",
    "#TODO: set tensorflow random seed too\n",
    "\n",
    "xs = np.linspace(0., 1., numCells)\n",
    "ys = np.linspace(0., 1., numCells)\n",
    "xxs, yys = np.meshgrid(xs, ys)\n",
    "\n",
    "def generateRandomData(numCells, maxNumSpots):\n",
    "  \"\"\"\n",
    "  Generate random data with spots (Gaussian field over zero background)\n",
    "  @param numCells number of cells in x and y\n",
    "  @param maxNumSpots max number of spots\n",
    "  @return array with elements between 0 and 1\n",
    "  \"\"\"\n",
    "  numSpots = int(maxNumSpots * np.random.random() + 0.5)\n",
    "  data = np.zeros((numCells, numCells), np.float64)\n",
    "  for i in range(numSpots):\n",
    "    # random radius\n",
    "    rad = 0.1 + 0.0*np.random.random()  # currently fixed radius of 0.1\n",
    "    # random location\n",
    "    x0, y0 = 0.1 + 0.8*np.random.random(), 0.1 + 0.8*np.random.random()\n",
    "    data += np.exp( -((xxs - x0)**2 + (yys - y0)**2)/rad**2 )\n",
    "  # normalize, filter nans\n",
    "  maxVal = data.max()\n",
    "  if maxVal != 0:\n",
    "    data /= maxVal\n",
    "  data = np.nan_to_num(data)\n",
    "  \n",
    "  return data, numSpots"
   ]
  },
  {
   "cell_type": "markdown",
   "metadata": {
    "colab_type": "text",
    "id": "uZH-qbG625OG"
   },
   "source": [
    "Function to plot the data"
   ]
  },
  {
   "cell_type": "code",
   "execution_count": 3,
   "metadata": {
    "colab": {},
    "colab_type": "code",
    "id": "X0a4Z_KvJesY"
   },
   "outputs": [],
   "source": [
    "%matplotlib inline\n",
    "import matplotlib.pylab as plt\n",
    "\n",
    "numCols = 5\n",
    "def plotData(iBeg, iEnd, dataInput, dataOutput, dataReferenceOutput=[]):\n",
    "  \"\"\"\n",
    "  Plot the data\n",
    "  @param iBeg start index in the dataset (list of 2D data)\n",
    "  @param iEnd one past the last index in the dataset\n",
    "  @param dataInput dataset\n",
    "  @param dataOutput number of spots for each data array\n",
    "  @param dataReferenceOutput correct number of spots for each data array\n",
    "  \"\"\"\n",
    "  numPlots = iEnd - iBeg\n",
    "  numRows = numPlots // numCols\n",
    "  if numPlots % numCols > 0:\n",
    "    numRows += 1\n",
    "  for i in range(iBeg, iEnd):\n",
    "    plt.subplot(numRows, numCols, i - iBeg + 1)\n",
    "    plt.imshow(dataInput[i, ...], cmap='YlOrBr')\n",
    "    plt.axis('off')\n",
    "    txt = '{:.1f}'.format(dataOutput[i])\n",
    "    if len(dataReferenceOutput) > 0:\n",
    "      txt += ' ({})'.format(dataReferenceOutput[i])\n",
    "    plt.title(txt, fontsize=8)\n",
    "  plt.show()"
   ]
  },
  {
   "cell_type": "markdown",
   "metadata": {
    "colab_type": "text",
    "id": "0YWcSMMqK0H8"
   },
   "source": [
    "## Creating the training samples"
   ]
  },
  {
   "cell_type": "code",
   "execution_count": 4,
   "metadata": {
    "colab": {},
    "colab_type": "code",
    "id": "FW3bKnFEK3Iw"
   },
   "outputs": [],
   "source": [
    "# allocate memory\n",
    "trainInput = np.zeros((numTrain, numCells, numCells), np.float32)\n",
    "trainOutput = np.zeros((numTrain,), np.int8)\n",
    "# fill in the data for each training sample\n",
    "for i in range(numTrain):\n",
    "  trainInput[i, ...], trainOutput[i] = generateRandomData(numCells, maxNumSpots)"
   ]
  },
  {
   "cell_type": "markdown",
   "metadata": {
    "colab_type": "text",
    "id": "iCkt6nH53iC8"
   },
   "source": [
    "Plotting a subset of the training dataset"
   ]
  },
  {
   "cell_type": "code",
   "execution_count": 5,
   "metadata": {
    "colab": {
     "base_uri": "https://localhost:8080/",
     "height": 237
    },
    "colab_type": "code",
    "id": "AnaBFAoCJJ3O",
    "outputId": "a8a11965-4fa7-42e0-f062-8bf98d8928a9"
   },
   "outputs": [
    {
     "data": {
      "image/png": "[encoded data removed]",
      "text/plain": [
       "<Figure size 432x288 with 10 Axes>"
      ]
     },
     "metadata": {
      "needs_background": "light"
     },
     "output_type": "display_data"
    }
   ],
   "source": [
    "plotData(0, min(10, numTrain), trainInput, trainOutput)"
   ]
  },
  {
   "cell_type": "markdown",
   "metadata": {
    "colab_type": "text",
    "id": "RfbLH7mzVjke"
   },
   "source": [
    "## Creating the test samples"
   ]
  },
  {
   "cell_type": "code",
   "execution_count": 6,
   "metadata": {
    "colab": {},
    "colab_type": "code",
    "id": "4cbhKsF1GZQB"
   },
   "outputs": [],
   "source": [
    "# allocate memory\n",
    "testInput = np.zeros((numTest, numCells, numCells), np.float32)\n",
    "testOutput = np.zeros((numTest,), np.int8)\n",
    "# fill in the data for each testing sample\n",
    "for i in range(numTest):\n",
    "  testInput[i, ...], testOutput[i] = generateRandomData(numCells, maxNumSpots)"
   ]
  },
  {
   "cell_type": "markdown",
   "metadata": {
    "colab_type": "text",
    "id": "ghNJUdFW3xgR"
   },
   "source": [
    "Plotting a subset of the training dataset"
   ]
  },
  {
   "cell_type": "code",
   "execution_count": 7,
   "metadata": {
    "colab": {
     "base_uri": "https://localhost:8080/",
     "height": 237
    },
    "colab_type": "code",
    "id": "9L2MiWaZxRKk",
    "outputId": "7b36313f-89fd-472b-cb5a-45ab5717af05"
   },
   "outputs": [
    {
     "data": {
      "image/png": "[encoded data removed]",
      "text/plain": [
       "<Figure size 432x288 with 10 Axes>"
      ]
     },
     "metadata": {
      "needs_background": "light"
     },
     "output_type": "display_data"
    }
   ],
   "source": [
    "plotData(0, min(10, numTest), testInput, testOutput)"
   ]
  },
  {
   "cell_type": "code",
   "execution_count": null,
   "metadata": {
    "colab": {},
    "colab_type": "code",
    "id": "iG6Wi1oUgiid"
   },
   "outputs": [],
   "source": []
  },
  {
   "cell_type": "markdown",
   "metadata": {
    "colab_type": "text",
    "id": "QDOtXwfzWRNG"
   },
   "source": [
    "## Creating a neural network and training it"
   ]
  },
  {
   "cell_type": "code",
   "execution_count": 8,
   "metadata": {
    "colab": {
     "base_uri": "https://localhost:8080/",
     "height": 793
    },
    "colab_type": "code",
    "id": "EQAdT3ObWNOj",
    "outputId": "8f05bd46-e2a4-4ca4-cfc9-91027b7c32fa"
   },
   "outputs": [
    {
     "name": "stdout",
     "output_type": "stream",
     "text": [
      "Train on 1000 samples\n",
      "Epoch 1/20\n",
      "1000/1000 [==============================] - 1s 1ms/sample - loss: 5.6639 - accuracy: 0.1580\n",
      "Epoch 2/20\n",
      "1000/1000 [==============================] - 1s 572us/sample - loss: 0.8397 - accuracy: 0.2040\n",
      "Epoch 3/20\n",
      "1000/1000 [==============================] - 1s 588us/sample - loss: 0.5780 - accuracy: 0.2040\n",
      "Epoch 4/20\n",
      "1000/1000 [==============================] - 1s 587us/sample - loss: 0.4930 - accuracy: 0.2360\n",
      "Epoch 5/20\n",
      "1000/1000 [==============================] - 1s 597us/sample - loss: 0.4394 - accuracy: 0.3070\n",
      "Epoch 6/20\n",
      "1000/1000 [==============================] - 1s 608us/sample - loss: 0.4307 - accuracy: 0.3070\n",
      "Epoch 7/20\n",
      "1000/1000 [==============================] - 1s 581us/sample - loss: 0.4254 - accuracy: 0.3070\n",
      "Epoch 8/20\n",
      "1000/1000 [==============================] - 1s 573us/sample - loss: 0.4186 - accuracy: 0.3070\n",
      "Epoch 9/20\n",
      "1000/1000 [==============================] - 1s 606us/sample - loss: 0.4119 - accuracy: 0.3070\n",
      "Epoch 10/20\n",
      "1000/1000 [==============================] - 1s 597us/sample - loss: 0.4175 - accuracy: 0.3070\n",
      "Epoch 11/20\n",
      "1000/1000 [==============================] - 1s 925us/sample - loss: 0.4095 - accuracy: 0.3070\n",
      "Epoch 12/20\n",
      "1000/1000 [==============================] - 1s 705us/sample - loss: 0.4146 - accuracy: 0.3070\n",
      "Epoch 13/20\n",
      "1000/1000 [==============================] - 1s 638us/sample - loss: 0.4072 - accuracy: 0.3070\n",
      "Epoch 14/20\n",
      "1000/1000 [==============================] - 1s 605us/sample - loss: 0.4000 - accuracy: 0.3070\n",
      "Epoch 15/20\n",
      "1000/1000 [==============================] - 1s 622us/sample - loss: 0.3974 - accuracy: 0.3070\n",
      "Epoch 16/20\n",
      "1000/1000 [==============================] - 1s 578us/sample - loss: 0.3960 - accuracy: 0.3070\n",
      "Epoch 17/20\n",
      "1000/1000 [==============================] - 1s 612us/sample - loss: 0.3867 - accuracy: 0.3070\n",
      "Epoch 18/20\n",
      "1000/1000 [==============================] - 1s 588us/sample - loss: 0.3819 - accuracy: 0.3070\n",
      "Epoch 19/20\n",
      "1000/1000 [==============================] - 1s 662us/sample - loss: 0.3879 - accuracy: 0.3070\n",
      "Epoch 20/20\n",
      "1000/1000 [==============================] - 1s 762us/sample - loss: 0.3886 - accuracy: 0.3070\n"
     ]
    }
   ],
   "source": [
    "from tensorflow import keras\n",
    "\n",
    "# build the neural network\n",
    "model = keras.Sequential()\n",
    "\n",
    "# first layer - looking at fine details\n",
    "model.add( keras.layers.Conv2D(8, kernel_size=(3,3), strides=(1,1),\n",
    "                             padding='same', data_format='channels_last',\n",
    "                             activation='relu') )  # relu is activation - never get below zero, linear scale with output\n",
    "model.add( keras.layers.MaxPooling2D(pool_size=(2, 2)) )  # which filter most successful in identifying certain feature\n",
    "# play with num filters (8), kernel_size, kernel_size\n",
    "\n",
    "# second layer - looking at coarser details...\n",
    "model.add( keras.layers.Conv2D(8, kernel_size=(3,3), strides=(1,1),\n",
    "                             padding='same', data_format='channels_last',\n",
    "                             activation='relu') )\n",
    "model.add( keras.layers.MaxPooling2D(pool_size=(2, 2)) ) # pool size\n",
    "\n",
    "# add a dense layer with linear regression\n",
    "model.add( keras.layers.Flatten() )\n",
    "model.add( keras.layers.Dense(1) )  # only one output (approx num spots)\n",
    "# could have mapped into an array (output), max num spots elements, output is probability of each number spots\n",
    "\n",
    "model.compile(optimizer='adam', loss='mean_squared_error',\n",
    "            metrics=['accuracy']) # look into this may be better as something else\n",
    "\n",
    "# now train \n",
    "numEpochs = 20\n",
    "history = model.fit(trainInput.reshape(-1, numCells, numCells, 1),  # input is 4d tensor with shape (batch, rows, cols, channels) when using \"channels_last\"\n",
    "                    trainOutput, epochs=numEpochs)"
   ]
  },
  {
   "cell_type": "code",
   "execution_count": 9,
   "metadata": {},
   "outputs": [
    {
     "data": {
      "image/png": "[encoded data removed]",
      "text/plain": [
       "<Figure size 432x288 with 1 Axes>"
      ]
     },
     "metadata": {
      "needs_background": "light"
     },
     "output_type": "display_data"
    }
   ],
   "source": [
    "# plot the model accuracy\n",
    "plt.plot(history.history['accuracy'], label='accuracy')\n",
    "#plt.plot(history.history['val_accuracy'], label = 'val_accuracy')\n",
    "plt.xlabel('Epoch')\n",
    "plt.ylabel('Accuracy')\n",
    "plt.ylim([0, 1])\n",
    "plt.legend(loc='best')\n",
    "plt.show()"
   ]
  },
  {
   "cell_type": "code",
   "execution_count": 10,
   "metadata": {
    "colab": {
     "base_uri": "https://localhost:8080/",
     "height": 353
    },
    "colab_type": "code",
    "id": "zYYiTJkq_-R9",
    "outputId": "8e17e35c-75a7-4218-d208-6bf3048d3f51"
   },
   "outputs": [
    {
     "name": "stdout",
     "output_type": "stream",
     "text": [
      "Model: \"sequential\"\n",
      "_________________________________________________________________\n",
      "Layer (type)                 Output Shape              Param #   \n",
      "=================================================================\n",
      "conv2d (Conv2D)              multiple                  80        \n",
      "_________________________________________________________________\n",
      "max_pooling2d (MaxPooling2D) multiple                  0         \n",
      "_________________________________________________________________\n",
      "conv2d_1 (Conv2D)            multiple                  584       \n",
      "_________________________________________________________________\n",
      "max_pooling2d_1 (MaxPooling2 multiple                  0         \n",
      "_________________________________________________________________\n",
      "flatten (Flatten)            multiple                  0         \n",
      "_________________________________________________________________\n",
      "dense (Dense)                multiple                  801       \n",
      "=================================================================\n",
      "Total params: 1,465\n",
      "Trainable params: 1,465\n",
      "Non-trainable params: 0\n",
      "_________________________________________________________________\n"
     ]
    }
   ],
   "source": [
    "# give a summary of the model \n",
    "model.summary()"
   ]
  },
  {
   "cell_type": "markdown",
   "metadata": {
    "colab_type": "text",
    "id": "xrn3IG8YYI9D"
   },
   "source": [
    "## Predicting the the number of spots in each test sample"
   ]
  },
  {
   "cell_type": "code",
   "execution_count": 11,
   "metadata": {
    "colab": {
     "base_uri": "https://localhost:8080/",
     "height": 134
    },
    "colab_type": "code",
    "id": "ORR1x-s_YLjX",
    "outputId": "a834fc5f-0e7e-4adc-b899-8af8066ce8ef"
   },
   "outputs": [
    {
     "name": "stdout",
     "output_type": "stream",
     "text": [
      "[ 0.  0.  0.  0. -1.  0.  0.  0.  0.  0.  0.  0.  0.  0. -1.  1.  0.  0.\n",
      "  0.  0.  1.  0.  1.  0.  0. -1.  0.  0.  1.  0.  0.  0.  0.  0.  0.  1.\n",
      "  0.  0. -1.  0. -1.  0.  0. -2.  0.  0.  1.  0.  0.  0.  0.  0.  0.  0.\n",
      "  1.  0.  0.  0.  0.  0.  0. -2. -1.  0.  0. -1. -1.  0. -1.  0.  0.  0.\n",
      "  0.  1.  0.  0.  0.  0.  0.  0.  0.  0.  0.  0.  0.  0.  0.  0. -1.  1.\n",
      "  0. -1.  0.  0.  0.  1. -1.  0. -1.  0.]\n",
      "num errors = 25 (25.0 %)\n"
     ]
    }
   ],
   "source": [
    "predictions = model.predict(testInput.reshape(-1, numCells, numCells, 1))[:, 0]\n",
    "# compute the errors: difference between predictions and testOuput\n",
    "errors = np.round(predictions) - testOutput\n",
    "numErrors = (errors != 0).sum()\n",
    "print(errors)\n",
    "print(f'num errors = {numErrors} ({100*numErrors/numTest} %)')\n",
    "# could use f'{numErrors}'"
   ]
  },
  {
   "cell_type": "markdown",
   "metadata": {
    "colab_type": "text",
    "id": "KfdSdvj84GaR"
   },
   "source": [
    "\n",
    "Plotting datasets for which the predictions were wrong"
   ]
  },
  {
   "cell_type": "code",
   "execution_count": 12,
   "metadata": {
    "colab": {
     "base_uri": "https://localhost:8080/",
     "height": 237
    },
    "colab_type": "code",
    "id": "zz01RfV3jwyC",
    "outputId": "05524024-e5c8-4d68-e5c2-756bcf16696c"
   },
   "outputs": [
    {
     "data": {
      "image/png": "[encoded data removed]",
      "text/plain": [
       "<Figure size 432x288 with 10 Axes>"
      ]
     },
     "metadata": {
      "needs_background": "light"
     },
     "output_type": "display_data"
    }
   ],
   "source": [
    "inds = np.nonzero(errors != 0)[0]\n",
    "failuresInput = testInput[inds, :]\n",
    "failuresOutput = predictions[inds]\n",
    "correctOutput = testOutput[inds]\n",
    "numFailures = len(failuresOutput)\n",
    "plotData(0, min(10, numFailures), failuresInput, failuresOutput, correctOutput)"
   ]
  }
 ],
 "metadata": {
  "colab": {
   "collapsed_sections": [],
   "name": "countSpots.ipynb",
   "provenance": [],
   "version": "0.3.2"
  },
  "kernelspec": {
   "display_name": "Python 3",
   "language": "python",
   "name": "python3"
  },
  "language_info": {
   "codemirror_mode": {
    "name": "ipython",
    "version": 3
   },
   "file_extension": ".py",
   "mimetype": "text/x-python",
   "name": "python",
   "nbconvert_exporter": "python",
   "pygments_lexer": "ipython3",
   "version": "3.7.5"
  }
 },
 "nbformat": 4,
 "nbformat_minor": 4
}
