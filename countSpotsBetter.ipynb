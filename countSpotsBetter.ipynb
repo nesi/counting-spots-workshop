{
 "cells": [
  {
   "cell_type": "markdown",
   "metadata": {
    "colab_type": "text",
    "id": "eeTk9C4kSqGR"
   },
   "source": [
    "## Input parameters"
   ]
  },
  {
   "cell_type": "code",
   "execution_count": null,
   "metadata": {
    "colab": {},
    "colab_type": "code",
    "id": "eB9GyZ4gGBJj"
   },
   "outputs": [],
   "source": [
    "# input values - feel free to change\n",
    "numTrain = 1000 # number of training samples\n",
    "numTest = 200 # number of testing samples\n",
    "numCells = 40 # the sample data have size numCells x numCells\n",
    "maxNumSpots = 5 # the maximum number of spots 0...maxNumSpots"
   ]
  },
  {
   "cell_type": "markdown",
   "metadata": {
    "colab_type": "text",
    "id": "6cR7592zS0nI"
   },
   "source": [
    "## Some convenience functions"
   ]
  },
  {
   "cell_type": "markdown",
   "metadata": {
    "colab_type": "text",
    "id": "22gecBZaGasA"
   },
   "source": [
    "This function generates 2D data with spots at random locations, well inside the data. A spot is a Gaussian field. Spots can be on top of each other, i.e. partially obstruct each other. The sample data are normalised to be between 0 and 1.\n",
    "\n",
    "Use this function to generate the training and test datasets."
   ]
  },
  {
   "cell_type": "code",
   "execution_count": null,
   "metadata": {
    "colab": {},
    "colab_type": "code",
    "id": "LILclWIoGgk7"
   },
   "outputs": [],
   "source": [
    "import numpy as np\n",
    "np.random.seed(123)\n",
    "\n",
    "xs = np.linspace(0., 1., numCells)\n",
    "ys = np.linspace(0., 1., numCells)\n",
    "xxs, yys = np.meshgrid(xs, ys)\n",
    "\n",
    "def generateRandomData(numCells, maxNumSpots):\n",
    "  \"\"\"\n",
    "  Generate random data with spots (Gaussian field over zero background)\n",
    "  @param numCells number of cells in x and y\n",
    "  @param maxNumSpots max number of spots\n",
    "  @return array with elements between 0 and 1\n",
    "  \"\"\"\n",
    "  numSpots = int(maxNumSpots * np.random.random() + 0.5)\n",
    "  data = np.zeros((numCells, numCells), np.float64)\n",
    "  for i in range(numSpots):\n",
    "    # random radius\n",
    "    rad = 0.1 + 0.0*np.random.random()\n",
    "    # random location\n",
    "    x0, y0 = 0.1 + 0.8*np.random.random(), 0.1 + 0.8*np.random.random()\n",
    "    data += np.exp( -((xxs - x0)**2 + (yys - y0)**2)/rad**2 )\n",
    "  # normalize, filter nans\n",
    "  maxVal = data.max()\n",
    "  if maxVal != 0:\n",
    "    data /= maxVal\n",
    "  data = np.nan_to_num(data)\n",
    "  \n",
    "  return data, numSpots\n",
    "                "
   ]
  },
  {
   "cell_type": "markdown",
   "metadata": {
    "colab_type": "text",
    "id": "uZH-qbG625OG"
   },
   "source": [
    "Function to plot a few samples from either the training or testing dataset. "
   ]
  },
  {
   "cell_type": "code",
   "execution_count": null,
   "metadata": {
    "colab": {},
    "colab_type": "code",
    "id": "X0a4Z_KvJesY"
   },
   "outputs": [],
   "source": [
    "import matplotlib.pylab as plt\n",
    "\n",
    "numCols = 5\n",
    "def plotData(iBeg, iEnd, dataInput, dataOutput, dataReferenceOutput=[]):\n",
    "  \"\"\"\n",
    "  Plot the data\n",
    "  @param iBeg start index in the training/testing dataset (list of 2D data)\n",
    "  @param iEnd one past the last index in the training/testing dataset\n",
    "  @param dataInput training/testing dataset\n",
    "  @param dataOutput number of spots for each data array (will appear in the title)\n",
    "  @param dataReferenceOutput correct number of spots for each data array\n",
    "  \"\"\"\n",
    "  numPlots = iEnd - iBeg\n",
    "  numRows = numPlots // numCols\n",
    "  if numPlots % numCols > 0:\n",
    "    numRows += 1\n",
    "  for i in range(iBeg, iEnd):\n",
    "    plt.subplot(numRows, numCols, i - iBeg + 1)\n",
    "    plt.imshow(dataInput[i, ...], cmap='YlOrBr')\n",
    "    plt.axis('off')\n",
    "    txt = '{:.1f}'.format(dataOutput[i])\n",
    "    if len(dataReferenceOutput) > 0:\n",
    "      txt += ' ({})'.format(dataReferenceOutput[i])\n",
    "    plt.title(txt, fontsize=8)\n",
    "  plt.show()"
   ]
  },
  {
   "cell_type": "markdown",
   "metadata": {
    "colab_type": "text",
    "id": "0YWcSMMqK0H8"
   },
   "source": [
    "## 1. Create the training data"
   ]
  },
  {
   "cell_type": "code",
   "execution_count": null,
   "metadata": {
    "colab": {},
    "colab_type": "code",
    "id": "FW3bKnFEK3Iw"
   },
   "outputs": [],
   "source": [
    "# allocate memory\n",
    "trainInput = np.zeros((numTrain, numCells, numCells), np.float32)\n",
    "trainOutput = np.zeros((numTrain,), np.int8)\n",
    "# fill in the data for each training sample\n",
    "for i in range(numTrain):\n",
    "  trainInput[i, ...], trainOutput[i] = generateRandomData(numCells, maxNumSpots)"
   ]
  },
  {
   "cell_type": "markdown",
   "metadata": {
    "colab_type": "text",
    "id": "iCkt6nH53iC8"
   },
   "source": [
    "Plotting a subset of the training samples"
   ]
  },
  {
   "cell_type": "code",
   "execution_count": null,
   "metadata": {
    "colab": {
     "base_uri": "https://localhost:8080/",
     "height": 261
    },
    "colab_type": "code",
    "id": "AnaBFAoCJJ3O",
    "outputId": "6a19c102-061c-4300-aa2a-6ffd23f8302c"
   },
   "outputs": [],
   "source": [
    "plotData(0, min(20, numTrain), trainInput, trainOutput)"
   ]
  },
  {
   "cell_type": "markdown",
   "metadata": {
    "colab_type": "text",
    "id": "RfbLH7mzVjke"
   },
   "source": [
    "## 2. Create the test data"
   ]
  },
  {
   "cell_type": "code",
   "execution_count": null,
   "metadata": {
    "colab": {},
    "colab_type": "code",
    "id": "4cbhKsF1GZQB"
   },
   "outputs": [],
   "source": [
    "# allocate memory\n",
    "testInput = np.zeros((numTest, numCells, numCells), np.float32)\n",
    "testOutput = np.zeros((numTest,), np.int8)\n",
    "# fill in the data for each testing sample\n",
    "for i in range(numTest):\n",
    "  testInput[i, ...], testOutput[i] = generateRandomData(numCells, maxNumSpots)"
   ]
  },
  {
   "cell_type": "markdown",
   "metadata": {
    "colab_type": "text",
    "id": "ghNJUdFW3xgR"
   },
   "source": [
    "Plotting a subset of test samples"
   ]
  },
  {
   "cell_type": "code",
   "execution_count": null,
   "metadata": {
    "colab": {
     "base_uri": "https://localhost:8080/",
     "height": 220
    },
    "colab_type": "code",
    "id": "9L2MiWaZxRKk",
    "outputId": "ca345e4b-1a63-46eb-d42b-92d2cf1bf72e"
   },
   "outputs": [],
   "source": [
    "plotData(0, min(10, numTest), testInput, testOutput)\n",
    "# shows spots and number of spots"
   ]
  },
  {
   "cell_type": "markdown",
   "metadata": {
    "colab_type": "text",
    "id": "QDOtXwfzWRNG"
   },
   "source": [
    "## 3. Assemble the neural network and train it\n",
    "\n",
    "We use Keras, a user friendly interface to TensorFlow and other tools. Below is one possible setup to solve our feature extraction problem -- feel free to play with the number of epochs, layers, filters, etc. Those feeling adventurous may want to try different layouts.\n",
    "\n",
    "Because our problem involves pattern recognition, we start by building a convolution neural network. The neural network architecture consists of three groups of layers.\n",
    "\n",
    "The 2D convolution layer applies different, 3x3 filters across the sample data. Each of the filters is trained to identify different patterns. The max pooling layer fires up a signal to the next level whenever there is a good match between a data region and the filter. \n",
    "\n",
    "The first pair of Conv2D/MaxPooling2D layers looks for patterns at the finest granularity. The next pair of Conv2D/MaxPooling2D layers searchs for patterns at coarser resolution. The patterns at high and low resolution might be different.\n",
    "\n",
    "The second pair of Conv2D/MaxPooling2D layers feeds into a dense layer, which combines all the outputs of coarse filters shifted across the data to produce a single number representing the number of spots. That dense layer is equivalent to performing a linear regression. The output of the dense layer is a floating point number, like 3.2. We then round this number to the nearest integer to infer the number of spots (3)."
   ]
  },
  {
   "cell_type": "code",
   "execution_count": null,
   "metadata": {
    "colab": {
     "base_uri": "https://localhost:8080/",
     "height": 1000
    },
    "colab_type": "code",
    "id": "EQAdT3ObWNOj",
    "outputId": "2357e0ce-5cf0-42dd-f6a1-965274de98f8"
   },
   "outputs": [],
   "source": [
    "from tensorflow import keras\n",
    "\n",
    "# build the neural network\n",
    "model = keras.Sequential()\n",
    "\n",
    "# convolution 1\n",
    "model.add( keras.layers.Conv2D(16, kernel_size=(3,3), strides=(1,1),\n",
    "                             padding='same', data_format='channels_last', \n",
    "                             activation='relu', input_shape=(numCells, numCells, 1)) )\n",
    "model.add( keras.layers.MaxPooling2D(pool_size=(2, 2)) )\n",
    "\n",
    "# convolution 2\n",
    "model.add( keras.layers.Conv2D(16, kernel_size=(3,3), strides=(1,1),\n",
    "                             padding='same', data_format='channels_last',\n",
    "                             activation='relu') )\n",
    "model.add( keras.layers.MaxPooling2D(pool_size=(2, 2)) )\n",
    "\n",
    "\n",
    "# add a dense layer with linear regression\n",
    "model.add( keras.layers.Flatten() ) # from an \"image\" to a 1D array\n",
    "model.add( keras.layers.Dense(4, activation='relu') )\n",
    "model.add( keras.layers.Dense(1, activation='relu') ) # single output value\n",
    "\n",
    "model.compile(optimizer='adam', loss='mean_squared_error',\n",
    "            metrics=['accuracy'])\n",
    "\n",
    "# give a summary of the model \n",
    "model.summary()\n",
    "\n"
   ]
  },
  {
   "cell_type": "code",
   "execution_count": null,
   "metadata": {},
   "outputs": [],
   "source": [
    "# now train \n",
    "numEpochs = 80 # number of times we pass the training dataset through the network\n",
    "model.fit(trainInput.reshape(-1, numCells, numCells, 1), \n",
    "          trainOutput, epochs=numEpochs, batch_size=32)\n"
   ]
  },
  {
   "cell_type": "markdown",
   "metadata": {
    "colab_type": "text",
    "id": "xrn3IG8YYI9D"
   },
   "source": [
    "## 4.Test the accuracy using the test data"
   ]
  },
  {
   "cell_type": "code",
   "execution_count": null,
   "metadata": {
    "colab": {
     "base_uri": "https://localhost:8080/",
     "height": 235
    },
    "colab_type": "code",
    "id": "ORR1x-s_YLjX",
    "outputId": "7e754825-6f7e-474d-f6b2-9569f6d84a92"
   },
   "outputs": [],
   "source": [
    "predictions = model.predict(testInput.reshape(-1, numCells, numCells, 1))[:, 0]\n",
    "# compute the errors: difference between predictions and testOuput\n",
    "errors = np.round(predictions) - testOutput\n",
    "numErrors = (errors != 0).sum()\n",
    "print(errors)\n",
    "print('num errors = {} ({} %)'.format(numErrors, 100*numErrors/numTest))\n"
   ]
  },
  {
   "cell_type": "markdown",
   "metadata": {
    "colab_type": "text",
    "id": "KfdSdvj84GaR"
   },
   "source": [
    "\n",
    "Plotting test samples for which the model gave a wrong number of spots"
   ]
  },
  {
   "cell_type": "code",
   "execution_count": null,
   "metadata": {
    "colab": {
     "base_uri": "https://localhost:8080/",
     "height": 220
    },
    "colab_type": "code",
    "id": "zz01RfV3jwyC",
    "outputId": "5ce32e9f-3f68-400a-fbf2-09b8d6bbb291"
   },
   "outputs": [],
   "source": [
    "inds = np.nonzero(errors != 0)[0]\n",
    "failuresInput = testInput[inds, :]\n",
    "failuresOutput = predictions[inds]\n",
    "correctOutput = testOutput[inds]\n",
    "numFailures = len(failuresOutput)\n",
    "plotData(0, min(10, numFailures), failuresInput, failuresOutput, correctOutput)"
   ]
  },
  {
   "cell_type": "markdown",
   "metadata": {
    "colab_type": "text",
    "id": "m86TeTXo6X3O"
   },
   "source": [
    "## Questions to ponder\n",
    "\n",
    "  1. Does the neural network tend to over or under predict the number of spots?\n",
    "  2. What is the most common reason of failure to predict the correct number of spots?\n",
    "  3. List the parameters that can likely improve the predictions\n",
    "  4. Try to improve the accuracy of the predictions\n",
    "  \n",
    " Hey if you find a better solution, let me know so I can add it to the notebook! --Alex"
   ]
  }
 ],
 "metadata": {
  "colab": {
   "collapsed_sections": [],
   "name": "countSpots.ipynb",
   "provenance": []
  },
  "kernelspec": {
   "display_name": "Python 3",
   "language": "python",
   "name": "python3"
  },
  "language_info": {
   "codemirror_mode": {
    "name": "ipython",
    "version": 3
   },
   "file_extension": ".py",
   "mimetype": "text/x-python",
   "name": "python",
   "nbconvert_exporter": "python",
   "pygments_lexer": "ipython3",
   "version": "3.7.3"
  }
 },
 "nbformat": 4,
 "nbformat_minor": 4
}
